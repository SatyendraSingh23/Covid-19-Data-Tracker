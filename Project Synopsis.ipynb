{
 "cells": [
  {
   "cell_type": "markdown",
   "id": "7b1b8167",
   "metadata": {},
   "source": [
    "#                           PROJECT : LIVE COVID-19 DATA TRACKER"
   ]
  },
  {
   "cell_type": "markdown",
   "id": "3ddad3d8",
   "metadata": {},
   "source": [
    "### created by :  Satyendra Singh (Backend), Sawan Kamble (Frontend)"
   ]
  },
  {
   "cell_type": "markdown",
   "id": "b8aabede",
   "metadata": {},
   "source": [
    "<b> OBJECTIVE </b> : To notify the user about COVID-19's statistics"
   ]
  },
  {
   "cell_type": "markdown",
   "id": "e22dc4dc",
   "metadata": {},
   "source": [
    "<b>Introduction : </b> This global pandemic and its statistics is spreading very faster. So We have to aware of the statistics off the area where we live in or going. These Application tracks data from the <b>official government of india website</b> which is updated and awares the user by popping up the <b>Notification</b> with statistics.  "
   ]
  },
  {
   "cell_type": "markdown",
   "id": "77335b63",
   "metadata": {},
   "source": [
    "<b>Requirement :- </b>OS  : Windows 7 and above\n",
    "                      RAM : 512mb+\n",
    "                      "
   ]
  },
  {
   "cell_type": "markdown",
   "id": "bdd4df27",
   "metadata": {},
   "source": [
    "<b>Technology Used</b> Python 3.8, beautifulSoup4, plyer"
   ]
  },
  {
   "cell_type": "markdown",
   "id": "300769a3",
   "metadata": {},
   "source": [
    "   ###                                        CODE   :-"
   ]
  },
  {
   "cell_type": "markdown",
   "id": "87bde6aa",
   "metadata": {},
   "source": [
    "<b> Importing essential libraries</b>"
   ]
  },
  {
   "cell_type": "code",
   "execution_count": 1,
   "id": "ac8fd0b7",
   "metadata": {},
   "outputs": [],
   "source": [
    "import tkinter as tk\n",
    "import bs4\n",
    "import plyer\n",
    "import requests\n",
    "import threading\n",
    "import time\n",
    "import datetime"
   ]
  },
  {
   "cell_type": "markdown",
   "id": "9fb2c578",
   "metadata": {},
   "source": [
    "<b>Taking HTML response from the client through URL </b>"
   ]
  },
  {
   "cell_type": "code",
   "execution_count": 2,
   "id": "ccc83cc5",
   "metadata": {},
   "outputs": [],
   "source": [
    "def getDataFromURL(url) :\n",
    "    data=requests.get(url)\n",
    "    return data"
   ]
  },
  {
   "cell_type": "markdown",
   "id": "74b95003",
   "metadata": {},
   "source": [
    "<b>Scraped all the data from https://www.mohfw.gov.in/ "
   ]
  },
  {
   "cell_type": "code",
   "execution_count": 3,
   "id": "42fdf987",
   "metadata": {},
   "outputs": [],
   "source": [
    "def getDetails() :\n",
    "    url=\"https://www.mohfw.gov.in/\"\n",
    "    htmlData=getDataFromURL(url)\n",
    "    bs=bs4.BeautifulSoup(htmlData.text,'html.parser')\n",
    "    infoRow = bs.find(\"div\", class_= \"col-xs-8 site-stats-count\")\n",
    "    active=infoRow.find(\"li\",\"bg-blue\").get_text()\n",
    "    ActiveArray=active.split()\n",
    "    Active=ActiveArray[0]\n",
    "    ActiveTotal=ActiveArray[1]\n",
    "    ActiveRaised=ActiveArray[2]\n",
    "    discharged=infoRow.find(\"li\",\"bg-green\").get_text()\n",
    "    dischargeArray=discharged.split()\n",
    "    Discharged=dischargeArray[0]\n",
    "    DischargedTotal=dischargeArray[1]\n",
    "    DischargedRaised=dischargeArray[2]\n",
    "    death = infoRow.find(\"li\", \"bg-red\").get_text()\n",
    "    deathArray = death.split()\n",
    "    Death = deathArray[0]\n",
    "    DeathTotal = deathArray[1]\n",
    "    DeathRaised = deathArray[2]\n",
    "    totalVaccinationArray=bs.find(\"div\",\"fullbol\").get_text().split()\n",
    "    totalVaccination=totalVaccinationArray[0]+(\" \"+totalVaccinationArray[1])\n",
    "    covidData=totalVaccinationArray[3]\n",
    "    vaccinedToday=totalVaccinationArray[4]\n",
    "    full_details=Active + \" = \" + ActiveTotal+\", Raised = \"+ActiveRaised+\"\\n\"+Discharged + \" = \"+DischargedTotal+\", Raised = \"+DischargedRaised+\"\\n\"+Death + \" = \" + DeathTotal + \", Raised = \" + DeathRaised+\"\\n\"+totalVaccination+\" = \"+covidData+\" applied today = \"+vaccinedToday+\")\\n\"\n",
    "    return full_details\n"
   ]
  },
  {
   "cell_type": "markdown",
   "id": "a0679149",
   "metadata": {},
   "source": [
    "### FRONTEND (GUI)"
   ]
  },
  {
   "cell_type": "markdown",
   "id": "31a5f485",
   "metadata": {},
   "source": [
    "<b>creating refresh button to manually refresh the data</b>"
   ]
  },
  {
   "cell_type": "code",
   "execution_count": 4,
   "id": "21c95bfe",
   "metadata": {},
   "outputs": [],
   "source": [
    "def refresh() :\n",
    "    newData=getDetails()\n",
    "    print(\"Refreshing..\")\n",
    "    mainLabel['text']=newData\n"
   ]
  },
  {
   "cell_type": "markdown",
   "id": "ab0d6413",
   "metadata": {},
   "source": [
    "<b>Function to populate the notification with statistics<b>"
   ]
  },
  {
   "cell_type": "code",
   "execution_count": 5,
   "id": "80c10a33",
   "metadata": {},
   "outputs": [],
   "source": [
    "def notify_me() :\n",
    "    while True:\n",
    "        plyer.notification.notify(title=\"COVID 19 cases in INDIA.\",message=getDetails(),timeout=10,app_icon='covid.ico')\n",
    "        time.sleep(1000)\n"
   ]
  },
  {
   "cell_type": "markdown",
   "id": "b440654d",
   "metadata": {},
   "source": [
    "<b>Creating UI stuffs "
   ]
  },
  {
   "cell_type": "code",
   "execution_count": 6,
   "id": "c7498914",
   "metadata": {},
   "outputs": [],
   "source": [
    "root=tk.Tk()\n",
    "root.geometry(\"500x700\")\n",
    "root.iconbitmap(\"covid.ico\")\n",
    "root.title(\"COVID19 TRACKER\")\n",
    "root.configure(background=\"black\")\n",
    "\n",
    "mainImage=tk.PhotoImage(file=\"covid-19.png\")\n",
    "mainImageLabel=tk.Label(root,image=mainImage)\n",
    "mainImageLabel.pack()\n",
    "f=(\"poppins\",12,\"bold\")\n",
    "\n",
    "mainLabel=tk.Label(root,text=getDetails(),justify=\"left\",font=f,foreground=\"white\",background=\"black\")\n",
    "mainLabel.pack()\n",
    "\n",
    "refreshButton=tk.Button(root,text=\"REFRESH\",font=f,relief='solid',command=refresh,background=\"black\",foreground=\"red\")\n",
    "refreshButton.pack()\n",
    "\n",
    "copyrightSymbol=u\"\\N{COPYRIGHT SIGN}\"\n",
    "copyrightLabel=tk.Label(root,text=copyrightSymbol+\"OUI-Batch 2020-21\",background=\"black\",foreground=\"white\")\n",
    "copyrightLabel.pack()"
   ]
  },
  {
   "cell_type": "markdown",
   "id": "d47789be",
   "metadata": {},
   "source": [
    "<b>Seperating Notification process from main thread to differnt thread </b>"
   ]
  },
  {
   "cell_type": "markdown",
   "id": "bcc27bc1",
   "metadata": {},
   "source": [
    "Didn't use service provider notification , it can be customized. The notification is send after every 300 sec which is also customizable"
   ]
  },
  {
   "cell_type": "code",
   "execution_count": 7,
   "id": "57df60d6",
   "metadata": {},
   "outputs": [],
   "source": [
    "t=threading.Thread(target=notify_me)\n",
    "t.setDaemon(True)\n",
    "t.start()\n"
   ]
  },
  {
   "cell_type": "markdown",
   "id": "43e92a79",
   "metadata": {},
   "source": [
    "Starting the main GUI"
   ]
  },
  {
   "cell_type": "code",
   "execution_count": 8,
   "id": "344fa3da",
   "metadata": {},
   "outputs": [
    {
     "name": "stderr",
     "output_type": "stream",
     "text": [
      "Exception in thread Thread-6:\n",
      "Traceback (most recent call last):\n",
      "  File \"c:\\users\\satye\\appdata\\local\\programs\\python\\python38-32\\lib\\site-packages\\urllib3\\connection.py\", line 159, in _new_conn\n",
      "    conn = connection.create_connection(\n",
      "  File \"c:\\users\\satye\\appdata\\local\\programs\\python\\python38-32\\lib\\site-packages\\urllib3\\util\\connection.py\", line 61, in create_connection\n",
      "    for res in socket.getaddrinfo(host, port, family, socket.SOCK_STREAM):\n",
      "  File \"c:\\users\\satye\\appdata\\local\\programs\\python\\python38-32\\lib\\socket.py\", line 918, in getaddrinfo\n",
      "    for res in _socket.getaddrinfo(host, port, family, type, proto, flags):\n",
      "socket.gaierror: [Errno 11001] getaddrinfo failed\n",
      "\n",
      "During handling of the above exception, another exception occurred:\n",
      "\n",
      "Traceback (most recent call last):\n",
      "  File \"c:\\users\\satye\\appdata\\local\\programs\\python\\python38-32\\lib\\site-packages\\urllib3\\connectionpool.py\", line 670, in urlopen\n",
      "    httplib_response = self._make_request(\n",
      "  File \"c:\\users\\satye\\appdata\\local\\programs\\python\\python38-32\\lib\\site-packages\\urllib3\\connectionpool.py\", line 381, in _make_request\n",
      "    self._validate_conn(conn)\n",
      "  File \"c:\\users\\satye\\appdata\\local\\programs\\python\\python38-32\\lib\\site-packages\\urllib3\\connectionpool.py\", line 976, in _validate_conn\n",
      "    conn.connect()\n",
      "  File \"c:\\users\\satye\\appdata\\local\\programs\\python\\python38-32\\lib\\site-packages\\urllib3\\connection.py\", line 308, in connect\n",
      "    conn = self._new_conn()\n",
      "  File \"c:\\users\\satye\\appdata\\local\\programs\\python\\python38-32\\lib\\site-packages\\urllib3\\connection.py\", line 171, in _new_conn\n",
      "    raise NewConnectionError(\n",
      "urllib3.exceptions.NewConnectionError: <urllib3.connection.HTTPSConnection object at 0x00A49F40>: Failed to establish a new connection: [Errno 11001] getaddrinfo failed\n",
      "\n",
      "During handling of the above exception, another exception occurred:\n",
      "\n",
      "Traceback (most recent call last):\n",
      "  File \"c:\\users\\satye\\appdata\\local\\programs\\python\\python38-32\\lib\\site-packages\\requests\\adapters.py\", line 439, in send\n",
      "    resp = conn.urlopen(\n",
      "  File \"c:\\users\\satye\\appdata\\local\\programs\\python\\python38-32\\lib\\site-packages\\urllib3\\connectionpool.py\", line 724, in urlopen\n",
      "    retries = retries.increment(\n",
      "  File \"c:\\users\\satye\\appdata\\local\\programs\\python\\python38-32\\lib\\site-packages\\urllib3\\util\\retry.py\", line 439, in increment\n",
      "    raise MaxRetryError(_pool, url, error or ResponseError(cause))\n",
      "urllib3.exceptions.MaxRetryError: HTTPSConnectionPool(host='www.mohfw.gov.in', port=443): Max retries exceeded with url: / (Caused by NewConnectionError('<urllib3.connection.HTTPSConnection object at 0x00A49F40>: Failed to establish a new connection: [Errno 11001] getaddrinfo failed'))\n",
      "\n",
      "During handling of the above exception, another exception occurred:\n",
      "\n",
      "Traceback (most recent call last):\n",
      "  File \"c:\\users\\satye\\appdata\\local\\programs\\python\\python38-32\\lib\\threading.py\", line 932, in _bootstrap_inner\n",
      "    self.run()\n",
      "  File \"c:\\users\\satye\\appdata\\local\\programs\\python\\python38-32\\lib\\threading.py\", line 870, in run\n",
      "    self._target(*self._args, **self._kwargs)\n",
      "  File \"<ipython-input-5-1e5daedf1f4a>\", line 3, in notify_me\n",
      "  File \"<ipython-input-3-713833cadf4a>\", line 3, in getDetails\n",
      "  File \"<ipython-input-2-7f77c84f61fe>\", line 2, in getDataFromURL\n",
      "  File \"c:\\users\\satye\\appdata\\local\\programs\\python\\python38-32\\lib\\site-packages\\requests\\api.py\", line 76, in get\n",
      "    return request('get', url, params=params, **kwargs)\n",
      "  File \"c:\\users\\satye\\appdata\\local\\programs\\python\\python38-32\\lib\\site-packages\\requests\\api.py\", line 61, in request\n",
      "    return session.request(method=method, url=url, **kwargs)\n",
      "  File \"c:\\users\\satye\\appdata\\local\\programs\\python\\python38-32\\lib\\site-packages\\requests\\sessions.py\", line 542, in request\n",
      "    resp = self.send(prep, **send_kwargs)\n",
      "  File \"c:\\users\\satye\\appdata\\local\\programs\\python\\python38-32\\lib\\site-packages\\requests\\sessions.py\", line 655, in send\n",
      "    r = adapter.send(request, **kwargs)\n",
      "  File \"c:\\users\\satye\\appdata\\local\\programs\\python\\python38-32\\lib\\site-packages\\requests\\adapters.py\", line 516, in send\n",
      "    raise ConnectionError(e, request=request)\n",
      "requests.exceptions.ConnectionError: HTTPSConnectionPool(host='www.mohfw.gov.in', port=443): Max retries exceeded with url: / (Caused by NewConnectionError('<urllib3.connection.HTTPSConnection object at 0x00A49F40>: Failed to establish a new connection: [Errno 11001] getaddrinfo failed'))\n"
     ]
    }
   ],
   "source": [
    "root.mainloop()"
   ]
  },
  {
   "cell_type": "markdown",
   "id": "7d174cda",
   "metadata": {},
   "source": [
    "#### Code is Finished"
   ]
  },
  {
   "cell_type": "markdown",
   "id": "444bd57a",
   "metadata": {},
   "source": [
    "<b>LIMITATIONS<b>"
   ]
  },
  {
   "cell_type": "markdown",
   "id": "48c6c436",
   "metadata": {},
   "source": [
    "1) This Project show statistics of INDIA only.\n",
    "2) Works Only on Windows Platform"
   ]
  },
  {
   "cell_type": "markdown",
   "id": "8fe19049",
   "metadata": {},
   "source": [
    "<b>UNDERDEVELOPMENTS</b>"
   ]
  },
  {
   "cell_type": "markdown",
   "id": "151bfba4",
   "metadata": {},
   "source": [
    "1. Executable for Both windows and Linux.\n",
    "2. Show statistics of every country and states"
   ]
  },
  {
   "cell_type": "markdown",
   "id": "1be698cb",
   "metadata": {},
   "source": [
    "<b>CONCLUSION</b>"
   ]
  },
  {
   "cell_type": "markdown",
   "id": "e68dc104",
   "metadata": {},
   "source": [
    "Since , we are scrapping the data from a website, we will be getting live data so our application is not getting to be static instead it changes every time when the site(shown above) updates ."
   ]
  }
 ],
 "metadata": {
  "kernelspec": {
   "display_name": "Python 3",
   "language": "python",
   "name": "python3"
  },
  "language_info": {
   "codemirror_mode": {
    "name": "ipython",
    "version": 3
   },
   "file_extension": ".py",
   "mimetype": "text/x-python",
   "name": "python",
   "nbconvert_exporter": "python",
   "pygments_lexer": "ipython3",
   "version": "3.8.3"
  }
 },
 "nbformat": 4,
 "nbformat_minor": 5
}
